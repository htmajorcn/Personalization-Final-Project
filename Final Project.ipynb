{
 "cells": [
  {
   "cell_type": "markdown",
   "metadata": {},
   "source": [
    "# IEOR 4571 Final Project\n",
    "\n",
    "### Group Member: Jialei Wang, Hantang Zhou\n",
    "### Dec 21st, 2018"
   ]
  },
  {
   "cell_type": "markdown",
   "metadata": {},
   "source": [
    "# 0. Data Set\n",
    "\n",
    "Link to the data set: [Anime Recommendations Database](https://www.kaggle.com/CooperUnion/anime-recommendations-database)\n",
    "\n",
    "There is official explanation of each column in the data.\n",
    "Dataset Anime:\n",
    "- Column anime_id: integer, myanimelist.net's unique id identifying an anime.\n",
    "- Column name: string, full name of anime.\n",
    "- Column genre: string, comma separated list of genres for this anime.\n",
    "- Column type: string, movie, TV, OVA, etc.\n",
    "- Column episodes: integer, how many episodes in this show. (1 if movie).\n",
    "- Column rating: float, average rating out of 10 for this anime\n",
    "- Column members: integer, number of community members that are in this anime's \"group\"\n",
    "\n",
    "Dataset Rating:\n",
    "- Column user_id: integer, non identifiable randomly generated user id.\n",
    "- Column anime_id: integer, the anime that this user has rated.\n",
    "- column rating: integer, rating out of 10 this user has assigned (-1 if the user watched it but didn't assign a rating)."
   ]
  },
  {
   "cell_type": "markdown",
   "metadata": {},
   "source": [
    "The objective of our project is to find the best FM model to give predictions and recommendations to user. We evaluate the model through auc score , coverage and level of serendipity."
   ]
  },
  {
   "cell_type": "markdown",
   "metadata": {},
   "source": [
    "# 1. Pre-processing Data <br/>\n",
    "Here we import everything needed, including packages and datasets. We also subset the data and remove invalid ratings."
   ]
  },
  {
   "cell_type": "code",
   "execution_count": 2,
   "metadata": {},
   "outputs": [
    {
     "name": "stderr",
     "output_type": "stream",
     "text": [
      "/Users/catherine/anaconda3/lib/python3.6/site-packages/lightfm/_lightfm_fast.py:9: UserWarning: LightFM was compiled without OpenMP support. Only a single thread will be used.\n",
      "  warnings.warn('LightFM was compiled without OpenMP support. '\n"
     ]
    }
   ],
   "source": [
    "import pandas as pd\n",
    "import numpy as np\n",
    "import math\n",
    "import scipy.sparse\n",
    "from lightfm import LightFM\n",
    "from lightfm import cross_validation\n",
    "from lightfm.evaluation import *\n",
    "\n",
    "anime = pd.read_csv('anime-recommendations-database/anime.csv')\n",
    "rating = pd.read_csv('anime-recommendations-database/rating.csv')"
   ]
  },
  {
   "cell_type": "code",
   "execution_count": 3,
   "metadata": {},
   "outputs": [],
   "source": [
    "MAX_ITEM = 12294\n",
    "MAX_USER = 73515\n",
    "numUser = math.floor(MAX_USER*0.5)\n",
    "numItem = math.floor(MAX_ITEM*0.5)\n",
    "\n",
    "rating_sample = rating[rating[\"user_id\"].isin(range(1,numUser+1))]\n",
    "rating_sample = rating_sample[rating_sample[\"anime_id\"].isin(range(1,numItem+1))]\n",
    "rating_sample = rating_sample[rating_sample.rating != -1].sample(frac=1).reset_index(drop=True)\n",
    "\n",
    "ani_sample = anime[anime[\"anime_id\"].isin(range(1,numItem+1))]"
   ]
  },
  {
   "cell_type": "code",
   "execution_count": 4,
   "metadata": {},
   "outputs": [],
   "source": [
    "# get subsets, which is ordered by the number of reviews of the users\n",
    "# mats[0] is the group of users with least review, while mats[9] is the most reviews\n",
    "s = rating_sample[['user_id', 'anime_id']].groupby('user_id').count()\n",
    "s = s.sort_values(by=['anime_id'])\n",
    "mats = np.array_split(s, 10)"
   ]
  },
  {
   "cell_type": "code",
   "execution_count": 13,
   "metadata": {},
   "outputs": [],
   "source": [
    "# Here we create the interaction matrix and item feature matrix\n",
    "# the include_* specify which side information to include\n",
    "# the default is to include all the information\n",
    "def getMatrix(m, include_episodes=True, include_type=True, include_rating=True, include_genre=True, include_members=True):\n",
    "    mat = rating_sample[rating_sample['user_id'].isin(m.index.values)]\n",
    "    ## interaction\n",
    "    R_df = mat.pivot(index = 'user_id', columns = 'anime_id', values = 'rating').fillna(0)\n",
    "    interaction = scipy.sparse.coo_matrix(R_df.values)\n",
    "    int_train,int_test = cross_validation.random_train_test_split(interaction, test_percentage=0.2, random_state=None)\n",
    "    ## item feature\n",
    "    test = ani_sample[ani_sample['anime_id'].isin(mat['anime_id'].unique())]\n",
    "    test = test.sort_values(by=['anime_id']).set_index('anime_id')\n",
    "\n",
    "    aniType = pd.get_dummies(test['type'])\n",
    "    genre = test['genre'].str.get_dummies(sep=',')\n",
    "    epi = test['episodes'].replace({'Unknown': None})\n",
    "    epi = pd.to_numeric(epi)\n",
    "    epi = epi.replace({None: epi.mean()})\n",
    "    epi = (epi-epi.mean())/epi.std()\n",
    "    avgRating = test['rating'].fillna(test['rating'].mean())\n",
    "    members = test['members'].fillna(test['members'].mean())\n",
    "    members = (members-members.mean())/members.std()\n",
    "\n",
    "    item_feature = None\n",
    "    if not include_episodes and not include_type and not include_rating and not include_genre and not include_members:\n",
    "        item_feature = None\n",
    "    else:\n",
    "        if not include_episodes:\n",
    "            epi = None\n",
    "        if not include_type:\n",
    "            aniType = None\n",
    "        if not include_rating:\n",
    "            avgRating = None\n",
    "        if not include_genre:\n",
    "            genre = None\n",
    "        if not include_members:\n",
    "            members = None\n",
    "        item_feature = pd.concat([genre,aniType,epi,avgRating,members],axis=1)\n",
    "        item_feature = scipy.sparse.csr_matrix(item_feature.values)\n",
    "    \n",
    "    return (int_train,int_test,item_feature)"
   ]
  },
  {
   "cell_type": "markdown",
   "metadata": {},
   "source": [
    "# 2. Setup model"
   ]
  },
  {
   "cell_type": "code",
   "execution_count": 15,
   "metadata": {},
   "outputs": [],
   "source": [
    "model = LightFM(loss='warp')"
   ]
  },
  {
   "cell_type": "markdown",
   "metadata": {},
   "source": [
    "We first start with FM with out side effect. This is the same as Matrix factorization problem. So we set this problem as a baseline."
   ]
  },
  {
   "cell_type": "code",
   "execution_count": 35,
   "metadata": {},
   "outputs": [
    {
     "name": "stdout",
     "output_type": "stream",
     "text": [
      "0.04727955\n",
      "0.054747954\n",
      "0.07645705\n",
      "0.09938373\n",
      "0.1340727\n",
      "0.16850062\n",
      "0.21679206\n",
      "0.27411202\n",
      "0.34244433\n",
      "0.48911607\n"
     ]
    }
   ],
   "source": [
    "preAtK = []\n",
    "for m in mats:\n",
    "    int_train,int_test,_ = getMatrix(m)\n",
    "    model.fit(int_train, epochs=30)\n",
    "    test_precision = precision_at_k(model, int_test, int_train, k=5).mean()\n",
    "    print(test_precision)\n",
    "    preAtK.append(test_precision)"
   ]
  },
  {
   "cell_type": "markdown",
   "metadata": {},
   "source": [
    "We chose precision at k as our metric since we are dealing with a ranking problem. </br>\n",
    "From the above data we can see that the precision at level k is increasing when the density of the matrix is increasing. However, during the project, we also tried to use auc score as our metric. Though not shown above, auc scores are around 0.8~0.9 and reached a peak at density level 2% and start to decrease when we increase density. We guess this is because of overfitting."
   ]
  },
  {
   "cell_type": "code",
   "execution_count": 11,
   "metadata": {},
   "outputs": [],
   "source": [
    "def getPercent(m):\n",
    "    fill = sum(m['anime_id'])\n",
    "    userNum = len(m.index.unique())\n",
    "    ratingSam = rating_sample[rating_sample['user_id'].isin(m.index.values)]\n",
    "    itemNum = len(ratingSam['anime_id'].unique())\n",
    "    percentage = fill / (userNum*itemNum)\n",
    "    return percentage"
   ]
  },
  {
   "cell_type": "code",
   "execution_count": 12,
   "metadata": {},
   "outputs": [
    {
     "data": {
      "text/plain": [
       "0.024145347054560656"
      ]
     },
     "execution_count": 12,
     "metadata": {},
     "output_type": "execute_result"
    }
   ],
   "source": [
    "# Percentage of filling at mats[8]. This is where auc score begin to decrease.\n",
    "getPercent(mats[8])"
   ]
  },
  {
   "cell_type": "code",
   "execution_count": 13,
   "metadata": {},
   "outputs": [
    {
     "name": "stdout",
     "output_type": "stream",
     "text": [
      "1.0823981761932373\n",
      "1.7669618129730225\n",
      "2.3115739822387695\n",
      "3.3566360473632812\n",
      "4.28491997718811\n",
      "5.912028074264526\n",
      "7.673192977905273\n",
      "10.422170877456665\n",
      "15.668450117111206\n",
      "38.821571826934814\n"
     ]
    }
   ],
   "source": [
    "import time\n",
    "timeL = []\n",
    "for m in mats:\n",
    "    start = time.time()\n",
    "    int_train,int_test,item_feature = getMatrix(m)\n",
    "    model.fit(int_train, epochs=30)\n",
    "    stop = time.time()\n",
    "    duration = stop-start\n",
    "    print(duration)\n",
    "    timeL.append(duration)"
   ]
  },
  {
   "cell_type": "code",
   "execution_count": 14,
   "metadata": {},
   "outputs": [],
   "source": [
    "dens = []\n",
    "for m in mats:\n",
    "    dens.append(getPercent(m))"
   ]
  },
  {
   "cell_type": "code",
   "execution_count": 16,
   "metadata": {},
   "outputs": [
    {
     "data": {
      "image/png": "[encoded data removed]",
      "text/plain": [
       "<Figure size 432x288 with 1 Axes>"
      ]
     },
     "metadata": {},
     "output_type": "display_data"
    }
   ],
   "source": [
    "import matplotlib.pyplot as plt\n",
    "plt.plot(dens, timeL)\n",
    "plt.show()"
   ]
  },
  {
   "cell_type": "markdown",
   "metadata": {},
   "source": [
    "From the above plot we can see that when the density of the graph increases, the time taken for FM to fit also increases. They have a linear relationship. In addition, we have shown that if the density of the matrix go beyond 2%, it will cause overfitting. Here I used 3335 users in one data subset and at density 1.8% the fitting took around 10 sec which is acceptable. Thus it further proves a matrix with density around 2% would be best for FM."
   ]
  },
  {
   "cell_type": "markdown",
   "metadata": {},
   "source": [
    "# 3. Adding Side Information\n",
    "After the above test, we add some side information into the model. As listed before, out dataset does not contain much side information of the users, but we do have some for the anime. Therefore, we begin to construct the item feature matrix. Here is a summary of what we did:\n",
    "\n",
    "- Normalized the episodes and included it in the item feature matrix\n",
    "- Build pivot table for the column type and included in the item feature matrix\n",
    "- Extracts different genres from the column genre, and the build a pivot table and included in the item feature matrix\n",
    "- Includes thr rating to the item feature matrix\n",
    "\n",
    "We first break the genre string and extracts the different genres for the movies, and then build up a pivot table along with the column type. We normalize the episode as well. We then build up the item feature matrix and run the test again with the item feature matrix. Here is what we get:"
   ]
  },
  {
   "cell_type": "code",
   "execution_count": 36,
   "metadata": {},
   "outputs": [
    {
     "name": "stdout",
     "output_type": "stream",
     "text": [
      "0.03358209\n",
      "0.049091976\n",
      "0.058320493\n",
      "0.07787553\n",
      "0.09960014\n",
      "0.13722408\n",
      "0.17007828\n",
      "0.21119806\n",
      "0.25508732\n",
      "0.38220084\n"
     ]
    }
   ],
   "source": [
    "# calculate the AUC for differentt groups of user. The group is ordered by the rating counts of the user\n",
    "pre_w_side = []\n",
    "for m in mats:\n",
    "    int_train,int_test,item_feature = getMatrix(m)    \n",
    "    model.fit(int_train, epochs=30,item_features=item_feature)\n",
    "    test_precision = precision_at_k(model, int_test,int_train, k=5,item_features=item_feature).mean()\n",
    "    print(test_precision)\n",
    "    pre_w_side.append(test_precision)"
   ]
  },
  {
   "cell_type": "markdown",
   "metadata": {},
   "source": [
    "Similar to the case without side information. After mats[7] the auc score start to decrease. This is again caused by overfitting."
   ]
  },
  {
   "cell_type": "code",
   "execution_count": 19,
   "metadata": {},
   "outputs": [
    {
     "name": "stdout",
     "output_type": "stream",
     "text": [
      "1.4633920192718506\n",
      "2.4523890018463135\n",
      "4.1317431926727295\n",
      "6.354115962982178\n",
      "9.48148775100708\n",
      "10.943519115447998\n",
      "14.992868900299072\n",
      "20.319350957870483\n",
      "32.06664705276489\n",
      "81.9001190662384\n"
     ]
    }
   ],
   "source": [
    "timeL_side = []\n",
    "for m in mats:\n",
    "    start = time.time()\n",
    "    int_train,int_test,item_feature = getMatrix(m)    \n",
    "    model.fit(int_train, epochs=30,item_features=item_feature)\n",
    "    stop = time.time()\n",
    "    duration = stop-start\n",
    "    print(duration)\n",
    "    timeL_side.append(duration)"
   ]
  },
  {
   "cell_type": "code",
   "execution_count": 20,
   "metadata": {},
   "outputs": [
    {
     "data": {
      "text/plain": [
       "[<matplotlib.lines.Line2D at 0x10e88a630>]"
      ]
     },
     "execution_count": 20,
     "metadata": {},
     "output_type": "execute_result"
    },
    {
     "data": {
      "image/png": "[encoded data removed]",
      "text/plain": [
       "<Figure size 432x288 with 1 Axes>"
      ]
     },
     "metadata": {},
     "output_type": "display_data"
    }
   ],
   "source": [
    "plt.plot(dens, timeL_side)"
   ]
  },
  {
   "cell_type": "markdown",
   "metadata": {},
   "source": [
    "As we start to add in side infomation, the slope of the plot become very steep. In this case, though 1.8%density gives the best auc score, companies migh want to use lower density to around 1.5%(mats[6]) which lowers running time while the auc score did not decrease too much."
   ]
  },
  {
   "cell_type": "markdown",
   "metadata": {},
   "source": [
    "As we can see from the above result, the perfect score for precision at k is 1.0. The performance with side information is not as good as that without side information. \n",
    "\n",
    "We did not expect to see this result, so we tried to find out why. Here are some of the approach we tried:"
   ]
  },
  {
   "cell_type": "markdown",
   "metadata": {},
   "source": [
    "## a. Drop Some Side Information\n",
    "\n",
    "We are supposing that some of the side information we threw in the model is not helpful. So we tried to drop some of the side information.\n",
    "\n",
    "At first, we include four side information:\n",
    "- genre\n",
    "- type\n",
    "- episodes\n",
    "- rating\n",
    "- members\n",
    "\n",
    "Now we tried to drop each of the information one at a time to see the outcome:\n",
    "\n",
    "### i. drop genre"
   ]
  },
  {
   "cell_type": "code",
   "execution_count": 37,
   "metadata": {},
   "outputs": [
    {
     "name": "stdout",
     "output_type": "stream",
     "text": [
      "0.030654205\n",
      "0.044686962\n",
      "0.053472225\n",
      "0.07411003\n",
      "0.091689676\n",
      "0.12232306\n",
      "0.14465523\n",
      "0.18380494\n",
      "0.22962072\n",
      "0.3407697\n"
     ]
    }
   ],
   "source": [
    "# calculate the AUC for different groups of user. The group is ordered by the rating counts of the user\n",
    "pre_wo_genre = []\n",
    "for m in mats:\n",
    "    int_train,int_test,item_feature = getMatrix(m, include_genre = False)    \n",
    "    model.fit(int_train, epochs=30,item_features=item_feature)\n",
    "    test_precision = precision_at_k(model, int_test,int_train, k=5,item_features=item_feature).mean()\n",
    "    print(test_precision)\n",
    "    pre_wo_genre.append(test_precision)"
   ]
  },
  {
   "cell_type": "markdown",
   "metadata": {},
   "source": [
    "As we can see from the above result, if we drop the genre and leave all other side effects there, the precision at k=5 indeed decreased significantly. So we conclude that the genre helps making the prediction."
   ]
  },
  {
   "cell_type": "markdown",
   "metadata": {},
   "source": [
    "### ii. drop type"
   ]
  },
  {
   "cell_type": "code",
   "execution_count": 38,
   "metadata": {},
   "outputs": [
    {
     "name": "stdout",
     "output_type": "stream",
     "text": [
      "0.03536122\n",
      "0.04677138\n",
      "0.061615\n",
      "0.07828332\n",
      "0.10073892\n",
      "0.12786688\n",
      "0.16092716\n",
      "0.20680313\n",
      "0.2524985\n",
      "0.3644618\n"
     ]
    }
   ],
   "source": [
    "# calculate the AUC for differentt groups of user. The group is ordered by the rating counts of the user\n",
    "pre_wo_type = []\n",
    "for m in mats:\n",
    "    int_train,int_test,item_feature = getMatrix(m, include_type = False)    \n",
    "    model.fit(int_train, epochs=30,item_features=item_feature)\n",
    "    test_precision = precision_at_k(model, int_test, int_train,k=5,item_features=item_feature).mean()\n",
    "    print(test_precision)\n",
    "    pre_wo_type.append(test_precision)"
   ]
  },
  {
   "cell_type": "markdown",
   "metadata": {},
   "source": [
    "As we can see from the above result, if we drop the type and leave all other side effects there, the precision at k=5 is approximate the same. So we conclude that the type does not help making the prediction."
   ]
  },
  {
   "cell_type": "markdown",
   "metadata": {},
   "source": [
    "### iii. drop episodes"
   ]
  },
  {
   "cell_type": "code",
   "execution_count": 39,
   "metadata": {},
   "outputs": [
    {
     "name": "stdout",
     "output_type": "stream",
     "text": [
      "0.039033458\n",
      "0.04350877\n",
      "0.059214044\n",
      "0.08153197\n",
      "0.106128745\n",
      "0.14124055\n",
      "0.16857317\n",
      "0.2059001\n",
      "0.25436488\n",
      "0.3623572\n"
     ]
    }
   ],
   "source": [
    "# calculate the AUC for differentt groups of user. The group is ordered by the rating counts of the user\n",
    "pre_wo_episodes = []\n",
    "for m in mats:\n",
    "    int_train,int_test,item_feature = getMatrix(m, include_episodes = False)    \n",
    "    model.fit(int_train, epochs=30,item_features=item_feature)\n",
    "    test_precision = precision_at_k(model, int_test,int_train, k=5,item_features=item_feature).mean()\n",
    "    print(test_precision)\n",
    "    pre_wo_episodes.append(test_precision)"
   ]
  },
  {
   "cell_type": "markdown",
   "metadata": {},
   "source": [
    "As we can see from the above result, if we drop the episodes and leave all other side effects there, the precision at k=5 is approximate the same. So we conclude that the episodes does not help making the prediction."
   ]
  },
  {
   "cell_type": "markdown",
   "metadata": {},
   "source": [
    "### iv. drop rating"
   ]
  },
  {
   "cell_type": "code",
   "execution_count": 41,
   "metadata": {},
   "outputs": [
    {
     "name": "stdout",
     "output_type": "stream",
     "text": [
      "0.038794726\n",
      "0.053962704\n",
      "0.06857798\n",
      "0.08920863\n",
      "0.11155624\n",
      "0.14158596\n",
      "0.171764\n",
      "0.21095727\n",
      "0.25153524\n",
      "0.35688514\n"
     ]
    }
   ],
   "source": [
    "# calculate the precision@k=5 for different groups of user. The group is ordered by the rating counts of the user\n",
    "pre_wo_rating = []\n",
    "for m in mats:\n",
    "    int_train,int_test,item_feature = getMatrix(m, include_rating = False)    \n",
    "    model.fit(int_train, epochs=30,item_features=item_feature)\n",
    "    test_precision = precision_at_k(model, int_test,int_train, k=5,item_features=item_feature).mean()\n",
    "    print(test_precision)\n",
    "    pre_wo_rating.append(test_precision)"
   ]
  },
  {
   "cell_type": "markdown",
   "metadata": {},
   "source": [
    "As we can see from the above result, if we drop the rating and leave all other side effects there, the precision at k=5 decreased by a little. So we conclude that the rating has minor help making the prediction."
   ]
  },
  {
   "cell_type": "markdown",
   "metadata": {},
   "source": [
    "### v. drop members"
   ]
  },
  {
   "cell_type": "code",
   "execution_count": 42,
   "metadata": {},
   "outputs": [
    {
     "name": "stdout",
     "output_type": "stream",
     "text": [
      "0.03881701\n",
      "0.040255964\n",
      "0.045727305\n",
      "0.061528496\n",
      "0.07508469\n",
      "0.10127351\n",
      "0.122576766\n",
      "0.15797713\n",
      "0.18801929\n",
      "0.29873723\n"
     ]
    }
   ],
   "source": [
    "# calculate the precision@k=5 for different groups of user. The group is ordered by the rating counts of the user\n",
    "pre_wo_memeber = []\n",
    "for m in mats:\n",
    "    int_train,int_test,item_feature = getMatrix(m, include_members = False)    \n",
    "    model.fit(int_train, epochs=30,item_features=item_feature)\n",
    "    test_precision = precision_at_k(model, int_test, int_train,k=5,item_features=item_feature).mean()\n",
    "    print(test_precision)\n",
    "    pre_wo_memeber.append(test_precision)"
   ]
  },
  {
   "cell_type": "markdown",
   "metadata": {},
   "source": [
    "As we can see from the above result, if we drop the members and leave all other side effects there, the precision at k=5 decreased significantly. So we conclude that the members helps making the prediction."
   ]
  },
  {
   "cell_type": "markdown",
   "metadata": {},
   "source": [
    "### vi. drop type, episodes"
   ]
  },
  {
   "cell_type": "code",
   "execution_count": 43,
   "metadata": {},
   "outputs": [
    {
     "name": "stdout",
     "output_type": "stream",
     "text": [
      "0.04174573\n",
      "0.05127021\n",
      "0.056678284\n",
      "0.079403184\n",
      "0.10027582\n",
      "0.13414045\n",
      "0.15851897\n",
      "0.2087899\n",
      "0.2510536\n",
      "0.35069153\n"
     ]
    }
   ],
   "source": [
    "# calculate the precision@k=5 for differentt groups of user. The group is ordered by the rating counts of the user\n",
    "pre_wo_type_episodes = []\n",
    "for m in mats:\n",
    "    int_train,int_test,item_feature = getMatrix(m, include_type = False, include_episodes= False)    \n",
    "    model.fit(int_train, epochs=30,item_features=item_feature)\n",
    "    test_precision = precision_at_k(model, int_test,int_train, k=5,item_features=item_feature).mean()\n",
    "    print(test_precision)\n",
    "    pre_wo_type_episodes.append(test_precision)"
   ]
  },
  {
   "cell_type": "markdown",
   "metadata": {},
   "source": [
    "Since we experimented before, the type and episodes does not really help. However, after we remove them, the precision decrease as well."
   ]
  },
  {
   "cell_type": "markdown",
   "metadata": {},
   "source": [
    "### vii. drop type, episodes, rating"
   ]
  },
  {
   "cell_type": "code",
   "execution_count": 44,
   "metadata": {},
   "outputs": [
    {
     "name": "stdout",
     "output_type": "stream",
     "text": [
      "0.038721804\n",
      "0.053419057\n",
      "0.06376812\n",
      "0.08296008\n",
      "0.108622275\n",
      "0.13692169\n",
      "0.16681722\n",
      "0.19325708\n",
      "0.23822999\n",
      "0.3381239\n"
     ]
    }
   ],
   "source": [
    "# calculate the precision@k=5 for differentt groups of user. The group is ordered by the rating counts of the user\n",
    "pre_w_genre = []\n",
    "for m in mats:\n",
    "    int_train,int_test,item_feature = getMatrix(m, include_type = False, include_episodes= False, include_rating= False)    \n",
    "    model.fit(int_train, epochs=30,item_features=item_feature)\n",
    "    test_precision = precision_at_k(model, int_test,int_train, k=5,item_features=item_feature).mean()\n",
    "    print(test_precision)\n",
    "    pre_w_genre.append(test_precision)"
   ]
  },
  {
   "cell_type": "markdown",
   "metadata": {},
   "source": [
    "Although droping the genre or members will give us a significantly less accuracy, only include these two factors as a side information still cannot give us a better performace than that including all the information.\n",
    "\n",
    "### Conclusion For Dropping Side Information\n",
    "\n",
    "It seems that although excluding some of the side information does not hurt the overal prediction accuracy, we still cannnot find a way to enhance the performance by dropping any of the side information. As a result, we believe that all of the side information indeed helps improve the performace."
   ]
  },
  {
   "cell_type": "markdown",
   "metadata": {},
   "source": [
    "## b. Normalize The Rating\n",
    "\n"
   ]
  },
  {
   "cell_type": "code",
   "execution_count": 45,
   "metadata": {},
   "outputs": [],
   "source": [
    "def normalize_rating(rating):\n",
    "    # replace the -1 with 0, 0 means the user did not rate thee anime\n",
    "    rating = rating.replace(-1, 0)\n",
    "    rating = rating[rating['rating'] != 0].copy()\n",
    "    \n",
    "    result = normalzie_Rating_Mapping(rating)\n",
    "    \n",
    "    rating_normalized = pd.merge(rating, result, on='user_id')\n",
    "    rating_normalized['rating'] = (rating_normalized['rating'] - rating_normalized['mean'])/rating_normalized['std']\n",
    "    rating_normalized = rating_normalized.drop(columns=['mean','std'])\n",
    "    return result, rating_normalized\n",
    "\n",
    "def normalzie_Rating_Mapping(rating):\n",
    "    \n",
    "    # get thee mean and std information\n",
    "    ret = pd.merge(rating[['user_id', 'rating']].groupby('user_id').mean(),\n",
    "                   rating[['user_id', 'rating']].groupby('user_id').std(), \n",
    "                   left_index=True, right_index=True)\n",
    "\n",
    "    # replace the std from 0 to 1\n",
    "    ret = ret.fillna(1)\n",
    "    ret = ret.replace(0,1)\n",
    "    \n",
    "    ret = ret.rename(index=str, columns={\"rating_x\": \"mean\", \"rating_y\": \"std\"})\n",
    "    ret['user_id'] = pd.to_numeric(ret.index)\n",
    "    ret = ret.reset_index(drop=True)\n",
    "    return ret"
   ]
  },
  {
   "cell_type": "code",
   "execution_count": 46,
   "metadata": {},
   "outputs": [],
   "source": [
    "# normalize the rating data\n",
    "rating = pd.read_csv('anime-recommendations-database/rating.csv')\n",
    "rating_mapping, rating = normalize_rating(rating)\n",
    "\n",
    "# recalculate the mats\n",
    "rating_sample = rating[rating[\"user_id\"].isin(range(1,numUser+1))]\n",
    "rating_sample = rating_sample[rating_sample[\"anime_id\"].isin(range(1,numItem+1))]\n",
    "rating_sample = rating_sample[rating_sample.rating != -1].sample(frac=1).reset_index(drop=True)\n",
    "\n",
    "s = rating_sample[['user_id', 'anime_id']].groupby('user_id').count()\n",
    "s = s.sort_values(by=['anime_id'])\n",
    "mats = np.array_split(s, 10)"
   ]
  },
  {
   "cell_type": "markdown",
   "metadata": {},
   "source": [
    "### Run The Model Without Any Side Information And Normalized Rating"
   ]
  },
  {
   "cell_type": "code",
   "execution_count": 47,
   "metadata": {},
   "outputs": [
    {
     "name": "stdout",
     "output_type": "stream",
     "text": [
      "0.049713194\n",
      "0.054947615\n",
      "0.07293755\n",
      "0.09676795\n",
      "0.13509528\n",
      "0.17562747\n",
      "0.210295\n",
      "0.26453945\n",
      "0.3252258\n",
      "0.49001804\n"
     ]
    }
   ],
   "source": [
    "pre = []\n",
    "for m in mats:\n",
    "    int_train,int_test,item_feature = getMatrix(m)\n",
    "    model.fit(int_train, epochs=30)\n",
    "    test_precision = precision_at_k(model, int_test,int_train, k=5).mean()\n",
    "    print(test_precision)\n",
    "    pre.append(test_precision)"
   ]
  },
  {
   "cell_type": "markdown",
   "metadata": {},
   "source": [
    "### Run The Model With All Side Information And Normalized Rating"
   ]
  },
  {
   "cell_type": "code",
   "execution_count": 48,
   "metadata": {},
   "outputs": [
    {
     "name": "stdout",
     "output_type": "stream",
     "text": [
      "0.0389414\n",
      "0.043667626\n",
      "0.059626378\n",
      "0.07769505\n",
      "0.098404914\n",
      "0.13535292\n",
      "0.16266187\n",
      "0.20939194\n",
      "0.2609874\n",
      "0.3758268\n"
     ]
    }
   ],
   "source": [
    "# calculate the AUC for differentt groups of user. The group is ordered by the rating counts of the user\n",
    "pre_w_side = []\n",
    "for m in mats:\n",
    "    int_train,int_test,item_feature = getMatrix(m)    \n",
    "    model.fit(int_train, epochs=30,item_features=item_feature)\n",
    "    test_precision = precision_at_k(model, int_test,int_train, k=5,item_features=item_feature).mean()\n",
    "    print(test_precision)\n",
    "    pre_w_side.append(test_precision)"
   ]
  },
  {
   "cell_type": "markdown",
   "metadata": {},
   "source": [
    "### Conclusion For Normalizing The Rating\n",
    "As we can see from the above result, normalizing the rating indeed helps enhancing the performance of the model without side information. However, doing so does not really help the performance of the model with side information"
   ]
  },
  {
   "cell_type": "markdown",
   "metadata": {},
   "source": [
    "## Conclusion For The Worse Performance With Side Information\n",
    "\n",
    "As illustrated above, we tried many ways to enhance the performace of the model with the side information. However, as we can see, from the part \"Dropping Some Side Information\", adding a single piece of side information does not help. However, as we throw in more and more information, the precision indeed get better. Adding side information does not always lead to the increasing of the precision. Due to the limitation of the dataset we have, we are not able to get more side information for either the user or the item. We are guessing that the performace of the model with side information is positively correlated with the amount of side information we put in the model."
   ]
  },
  {
   "cell_type": "markdown",
   "metadata": {},
   "source": [
    "# 4. Coverage Analysis\n",
    "In this part, we analyse the user and item coverage both with and without side information."
   ]
  },
  {
   "cell_type": "code",
   "execution_count": 16,
   "metadata": {},
   "outputs": [
    {
     "data": {
      "text/plain": [
       "<lightfm.lightfm.LightFM at 0x111f01748>"
      ]
     },
     "execution_count": 16,
     "metadata": {},
     "output_type": "execute_result"
    }
   ],
   "source": [
    "# calculate with side information using the whole set of user\n",
    "int_train,int_test,item_feature = getMatrix(s)    \n",
    "model.fit(int_train, epochs=100)"
   ]
  },
  {
   "cell_type": "markdown",
   "metadata": {},
   "source": [
    "Since lightFM's prediction method returns a prediction score but not the prediction ratings, we define a score above 75% percentile as a high rating."
   ]
  },
  {
   "cell_type": "code",
   "execution_count": 17,
   "metadata": {},
   "outputs": [
    {
     "name": "stdout",
     "output_type": "stream",
     "text": [
      "The item coverage is: 0.16208092485549133\n",
      "The user coverage is: 0.8853510823289561\n"
     ]
    }
   ],
   "source": [
    "# find the 75% cutoff of the predicted values\n",
    "all_prediction = []\n",
    "for i in range(0, int_test.shape[0]):\n",
    "    predicted = model.predict(i, np.arange(int_test.shape[1]))\n",
    "    all_prediction.extend(predicted)\n",
    "third_quantile = np.percentile(all_prediction, 75)\n",
    "\n",
    "\n",
    "# item coverage & user coverage\n",
    "item_coverage_list = []\n",
    "user_coverage_count = 0\n",
    "recon_good = third_quantile # define what is good for a recommend\n",
    "user_good = 7 # define how much is good for command to a user\n",
    "for i in range(0, int_test.shape[0]):\n",
    "    # mask out the rated item for the user\n",
    "    mask = np.asarray(int_test.getrow(i).todense()).flatten()\n",
    "    predicted = model.predict(i, np.arange(int_test.shape[1]))\n",
    "    predicted[mask != 0] = -1000\n",
    "    recommend = predicted.argsort()[len(predicted)-10:]\n",
    "    good_count = 0\n",
    "    \n",
    "    # go through the recommended list\n",
    "    for i in recommend:\n",
    "        if predicted[i] > recon_good:\n",
    "            good_count = good_count + 1   \n",
    "            \n",
    "    # whether count as a good user\n",
    "    if good_count >= user_good:\n",
    "        user_coverage_count = user_coverage_count + 1\n",
    "    item_coverage_list.extend(recommend)\n",
    "\n",
    "item_coverage = len(np.unique(item_coverage_list))/int_test.shape[1]\n",
    "print('The item coverage is: ' + str(item_coverage))\n",
    "\n",
    "user_coverage = user_coverage_count/int_test.shape[0]\n",
    "print('The user coverage is: ' + str(user_coverage))"
   ]
  },
  {
   "cell_type": "markdown",
   "metadata": {},
   "source": [
    "From the above result, we can see that the item coverage is not very high. Here are the reasons we think might cause this problem: </br>\n",
    "1. In the data set, we have a total of 4325 animes. From which our recommendation covers around 700 animes. Though this value is not as high as the gradient descent method we implemented for homework2, is relatively high compare to the \"recommend the most popular\" method. Considering the speed of running, we think this value is acceptable while can be improved using other rocommendation algorithms.\n",
    "2. We defined a high rating as 75% percentile to mimic a score of 7.5/10 in the 1-10 rating scale. However, in such an approcimation, we have am implicit assumption that the rating is from a uniform distribution. However, from our rating sample, the ratings are highly skewed to the right, which implies a more approprate model might be a normal distribution. Our uniform assumption would cause the \"high rating\" standard being \"higher\" than 7.5/10."
   ]
  },
  {
   "cell_type": "code",
   "execution_count": 19,
   "metadata": {},
   "outputs": [
    {
     "data": {
      "text/plain": [
       "<lightfm.lightfm.LightFM at 0x111f01748>"
      ]
     },
     "execution_count": 19,
     "metadata": {},
     "output_type": "execute_result"
    }
   ],
   "source": [
    "# calculate with side information using the whole set of user\n",
    "int_train,int_test,item_feature = getMatrix(s)    \n",
    "model.fit(int_train, epochs=100,item_features=item_feature)"
   ]
  },
  {
   "cell_type": "code",
   "execution_count": 20,
   "metadata": {},
   "outputs": [
    {
     "name": "stdout",
     "output_type": "stream",
     "text": [
      "The item coverage is: 0.09179190751445086\n",
      "The user coverage is: 0.8470348384001919\n"
     ]
    }
   ],
   "source": [
    "# find the 75% cutoff of the predicted values\n",
    "all_prediction = []\n",
    "for i in range(0, int_test.shape[0]):\n",
    "    predicted = model.predict(i, np.arange(int_test.shape[1]), item_features=item_feature)\n",
    "    all_prediction.extend(predicted)\n",
    "third_quantile = np.percentile(all_prediction, 75)\n",
    "\n",
    "\n",
    "# item coverage & user coverage\n",
    "item_coverage_list = []\n",
    "user_coverage_count = 0\n",
    "recon_good = third_quantile # define what is good for a recommend\n",
    "user_good = 7 # define how much is good for command to a user\n",
    "for i in range(0, int_test.shape[0]):\n",
    "    # mask out the rated item for the user\n",
    "    mask = np.asarray(int_test.getrow(i).todense()).flatten()\n",
    "    predicted = model.predict(i, np.arange(int_test.shape[1]), item_features=item_feature)\n",
    "    predicted[mask != 0] = -1000\n",
    "    recommend = predicted.argsort()[len(predicted)-10:]\n",
    "    good_count = 0\n",
    "    \n",
    "    # go through the recommended list\n",
    "    for i in recommend:\n",
    "        if predicted[i] > recon_good:\n",
    "            good_count = good_count + 1   \n",
    "            \n",
    "    # whether count as a good user\n",
    "    if good_count >= user_good:\n",
    "        user_coverage_count = user_coverage_count + 1\n",
    "    item_coverage_list.extend(recommend)\n",
    "\n",
    "item_coverage = len(np.unique(item_coverage_list))/int_test.shape[1]\n",
    "print('The item coverage is: ' + str(item_coverage))\n",
    "\n",
    "user_coverage = user_coverage_count/int_test.shape[0]\n",
    "print('The user coverage is: ' + str(user_coverage))"
   ]
  },
  {
   "cell_type": "markdown",
   "metadata": {},
   "source": [
    "# 5. References in analysis"
   ]
  },
  {
   "cell_type": "code",
   "execution_count": 25,
   "metadata": {},
   "outputs": [
    {
     "data": {
      "text/html": [
       "<div>\n",
       "<style scoped>\n",
       "    .dataframe tbody tr th:only-of-type {\n",
       "        vertical-align: middle;\n",
       "    }\n",
       "\n",
       "    .dataframe tbody tr th {\n",
       "        vertical-align: top;\n",
       "    }\n",
       "\n",
       "    .dataframe thead th {\n",
       "        text-align: right;\n",
       "    }\n",
       "</style>\n",
       "<table border=\"1\" class=\"dataframe\">\n",
       "  <thead>\n",
       "    <tr style=\"text-align: right;\">\n",
       "      <th></th>\n",
       "      <th>user_id</th>\n",
       "    </tr>\n",
       "    <tr>\n",
       "      <th>rating</th>\n",
       "      <th></th>\n",
       "    </tr>\n",
       "  </thead>\n",
       "  <tbody>\n",
       "    <tr>\n",
       "      <th>1</th>\n",
       "      <td>4295</td>\n",
       "    </tr>\n",
       "    <tr>\n",
       "      <th>2</th>\n",
       "      <td>5775</td>\n",
       "    </tr>\n",
       "    <tr>\n",
       "      <th>3</th>\n",
       "      <td>9570</td>\n",
       "    </tr>\n",
       "    <tr>\n",
       "      <th>4</th>\n",
       "      <td>24926</td>\n",
       "    </tr>\n",
       "    <tr>\n",
       "      <th>5</th>\n",
       "      <td>66997</td>\n",
       "    </tr>\n",
       "    <tr>\n",
       "      <th>6</th>\n",
       "      <td>145785</td>\n",
       "    </tr>\n",
       "    <tr>\n",
       "      <th>7</th>\n",
       "      <td>310223</td>\n",
       "    </tr>\n",
       "    <tr>\n",
       "      <th>8</th>\n",
       "      <td>367279</td>\n",
       "    </tr>\n",
       "    <tr>\n",
       "      <th>9</th>\n",
       "      <td>292421</td>\n",
       "    </tr>\n",
       "    <tr>\n",
       "      <th>10</th>\n",
       "      <td>241094</td>\n",
       "    </tr>\n",
       "  </tbody>\n",
       "</table>\n",
       "</div>"
      ],
      "text/plain": [
       "        user_id\n",
       "rating         \n",
       "1          4295\n",
       "2          5775\n",
       "3          9570\n",
       "4         24926\n",
       "5         66997\n",
       "6        145785\n",
       "7        310223\n",
       "8        367279\n",
       "9        292421\n",
       "10       241094"
      ]
     },
     "execution_count": 25,
     "metadata": {},
     "output_type": "execute_result"
    }
   ],
   "source": [
    "# Showes how ratings are distributed\n",
    "rating_sample[['user_id', 'rating']].groupby('rating').count()"
   ]
  },
  {
   "cell_type": "code",
   "execution_count": null,
   "metadata": {},
   "outputs": [],
   "source": []
  }
 ],
 "metadata": {
  "kernelspec": {
   "display_name": "Python 3",
   "language": "python",
   "name": "python3"
  },
  "language_info": {
   "codemirror_mode": {
    "name": "ipython",
    "version": 3
   },
   "file_extension": ".py",
   "mimetype": "text/x-python",
   "name": "python",
   "nbconvert_exporter": "python",
   "pygments_lexer": "ipython3",
   "version": "3.7.0"
  }
 },
 "nbformat": 4,
 "nbformat_minor": 2
}
