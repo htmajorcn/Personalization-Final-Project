{
 "cells": [
  {
   "cell_type": "markdown",
   "metadata": {},
   "source": [
    "## Factorization Machines\n",
    "Factorization Machines have been described as state of the art for many\n",
    "recommendation systems. Yet, experience has shown these models to suffer from slow\n",
    "training and local minima. Use a large(ish) dataset and characterize where FMs are easy\n",
    "to fit and accurate and where they are not.\n",
    "1. Start with models that have no side information, and are only user and item ratings.\n",
    "Specifically, subsample datasets from small to large, and subsample users/items\n",
    "from sparsely-populated to well-populated, and train and test FMs. Where do they\n",
    "work the best? Where do they fail? Can you set good rules of thumbs for their\n",
    "training and use?\n",
    "2. Next use side information about users or items. Answer the same questions as\n",
    "above."
   ]
  },
  {
   "cell_type": "code",
   "execution_count": 23,
   "metadata": {},
   "outputs": [],
   "source": [
    "import pandas as pd\n",
    "import numpy as np\n",
    "import pandasql as ps\n",
    "\n",
    "pd.set_option('display.max_rows', 10)"
   ]
  },
  {
   "cell_type": "code",
   "execution_count": 21,
   "metadata": {},
   "outputs": [],
   "source": [
    "anime = pd.read_csv('anime.csv')\n",
    "rating = pd.read_csv('rating.csv')"
   ]
  },
  {
   "cell_type": "code",
   "execution_count": null,
   "metadata": {},
   "outputs": [],
   "source": []
  }
 ],
 "metadata": {
  "kernelspec": {
   "display_name": "Python 3",
   "language": "python",
   "name": "python3"
  },
  "language_info": {
   "codemirror_mode": {
    "name": "ipython",
    "version": 3
   },
   "file_extension": ".py",
   "mimetype": "text/x-python",
   "name": "python",
   "nbconvert_exporter": "python",
   "pygments_lexer": "ipython3",
   "version": "3.7.0"
  }
 },
 "nbformat": 4,
 "nbformat_minor": 2
}
