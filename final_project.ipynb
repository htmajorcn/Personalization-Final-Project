{
 "cells": [
  {
   "cell_type": "markdown",
   "metadata": {},
   "source": [
    "## Approximate Nearest Neighbors\n",
    "Most Collaborative Filtering algorithms (both Memory and Model-based) suffer from the\n",
    "complexity of nearest neighbor lookup at industry-scale data. Use Spark’s Locality\n",
    "Sensitive Hashing methods to design collaborative filtering algorithms that scale.\n",
    "Assuming that you are using a single machine (i.e. your laptop, not a cluster), how does\n",
    "the LSH approach compare to naive brute-force approaches in speed and accuracy?\n",
    "\n",
    "Brute Force Algorithm Comes From <b>Scikit Leanrn:</b> https://scikit-learn.org/stable/modules/generated/sklearn.neighbors.NearestNeighbors.html\n",
    "\n",
    "Locality Sensitive Hashing Algorithm Comes From <b>Spark ML:</b> http://spark.apache.org/docs/2.2.0/api/python/pyspark.ml.html#pyspark.ml.feature.BucketedRandomProjectionLSH"
   ]
  },
  {
   "cell_type": "code",
   "execution_count": null,
   "metadata": {},
   "outputs": [],
   "source": []
  }
 ],
 "metadata": {
  "kernelspec": {
   "display_name": "Python 3",
   "language": "python",
   "name": "python3"
  },
  "language_info": {
   "codemirror_mode": {
    "name": "ipython",
    "version": 3
   },
   "file_extension": ".py",
   "mimetype": "text/x-python",
   "name": "python",
   "nbconvert_exporter": "python",
   "pygments_lexer": "ipython3",
   "version": "3.7.0"
  }
 },
 "nbformat": 4,
 "nbformat_minor": 2
}
